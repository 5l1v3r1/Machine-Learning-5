{
 "cells": [
  {
   "cell_type": "code",
   "execution_count": 1,
   "metadata": {},
   "outputs": [
    {
     "name": "stdout",
     "output_type": "stream",
     "text": [
      "            Position  Level  Salary\n",
      "0   Business Analyst      1   45000\n",
      "1  Junior Consultant      2   50000\n",
      "2  Senior Consultant      3   60000\n",
      "3            Manager      4   80000\n",
      "4    Country Manager      5  110000\n"
     ]
    }
   ],
   "source": [
    "# -*- coding: utf-8 -*-\n",
    "\"\"\"\n",
    "Created on Mon Dec  2 11:59:24 2019\n",
    "\n",
    "@author: Parth\n",
    "\"\"\"\n",
    "\n",
    "'''\n",
    "Random Forest Regression.\n",
    "--->Random Forest Regression comes under a set of learning algorithms called as Ensemble Learning.\n",
    "\n",
    "--->Ensemble Learning is the process of taking multiple algorithms or the same algorithm multiple \n",
    "    times to generate something more powerful than the original algorithm. \n",
    "    \n",
    "--->Steps in Random Forest Regression are:\n",
    "    1) Select any random K points from the dataset. \n",
    "    2) Create a Decision tree to predict the dependent variable y on those k data points. \n",
    "    3) Specify the number of decision trees to be constructed. \n",
    "    4) Repeat steps 1&2 once the number of decision trees are specified in Step 3. \n",
    "    5) Let all the Decision Trees predict the dependent variable Y and the end result is computed by \n",
    "       taking the average of the results of all the Decision Trees. \n",
    "       \n",
    "--->Ensemble algorithms are more stable as any changes that might affect a single tree do not affect\n",
    "    the end outcome as the average of the outcomes of all trees is taken. \n",
    "'''\n",
    "\n",
    "import numpy as np\n",
    "import pandas as pd\n",
    "import matplotlib.pyplot as plt\n",
    "from sklearn.linear_model import LinearRegression\n",
    "from sklearn.metrics import r2_score\n",
    "from sklearn.preprocessing import PolynomialFeatures\n",
    "\n",
    "df=pd.read_csv('Position_Salaries.csv')\n",
    "X=df.iloc[:,1].values\n",
    "y=df.iloc[:,2].values\n",
    "\n",
    "X=X.reshape(-1,1)\n",
    "y=y.reshape(-1,1)\n",
    "print(df.head())\n",
    "\n"
   ]
  },
  {
   "cell_type": "code",
   "execution_count": 2,
   "metadata": {},
   "outputs": [
    {
     "name": "stderr",
     "output_type": "stream",
     "text": [
      "C:\\ProgramData\\Anaconda3\\lib\\site-packages\\ipykernel_launcher.py:3: DataConversionWarning: A column-vector y was passed when a 1d array was expected. Please change the shape of y to (n_samples,), for example using ravel().\n",
      "  This is separate from the ipykernel package so we can avoid doing imports until\n"
     ]
    },
    {
     "data": {
      "image/png": "[encoded data removed]",
      "text/plain": [
       "<Figure size 432x288 with 1 Axes>"
      ]
     },
     "metadata": {
      "needs_background": "light"
     },
     "output_type": "display_data"
    },
    {
     "name": "stdout",
     "output_type": "stream",
     "text": [
      "r2 score: 0.952881406729914\n"
     ]
    }
   ],
   "source": [
    "from sklearn.ensemble import RandomForestRegressor\n",
    "regressor= RandomForestRegressor(n_estimators=300, random_state=0)\n",
    "regressor.fit(X,y)\n",
    "\n",
    "\n",
    "y_pred=regressor.predict(np.array([[6.5]]))\n",
    "\n",
    "X_grid = np.arange(min(X), max(X), 0.1)\n",
    "X_grid = X_grid.reshape((len(X_grid), 1))\n",
    "plt.scatter(X, y, color = 'red')\n",
    "plt.plot(X_grid, regressor.predict(X_grid), color = 'blue')\n",
    "plt.title('Truth or Bluff (Regression Model)')\n",
    "plt.xlabel('Position level')\n",
    "plt.ylabel('Salary')\n",
    "plt.show()\n",
    "\n",
    "print(\"r2 score:\",r2_score(y,regressor.predict(X)))\n"
   ]
  }
 ],
 "metadata": {
  "kernelspec": {
   "display_name": "Python 3",
   "language": "python",
   "name": "python3"
  },
  "language_info": {
   "codemirror_mode": {
    "name": "ipython",
    "version": 3
   },
   "file_extension": ".py",
   "mimetype": "text/x-python",
   "name": "python",
   "nbconvert_exporter": "python",
   "pygments_lexer": "ipython3",
   "version": "3.7.3"
  }
 },
 "nbformat": 4,
 "nbformat_minor": 2
}
