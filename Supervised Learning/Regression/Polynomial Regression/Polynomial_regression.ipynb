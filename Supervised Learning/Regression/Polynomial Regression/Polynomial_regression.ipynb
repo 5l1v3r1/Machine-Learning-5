{
 "cells": [
  {
   "cell_type": "code",
   "execution_count": 1,
   "metadata": {},
   "outputs": [
    {
     "name": "stdout",
     "output_type": "stream",
     "text": [
      "            Position  Level  Salary\n",
      "0   Business Analyst      1   45000\n",
      "1  Junior Consultant      2   50000\n",
      "2  Senior Consultant      3   60000\n",
      "3            Manager      4   80000\n",
      "4    Country Manager      5  110000\n"
     ]
    }
   ],
   "source": [
    "# -*- coding: utf-8 -*-\n",
    "\"\"\"\n",
    "Created on Sat Nov 30 20:39:02 2019\n",
    "\n",
    "@author: Parth\n",
    "\"\"\"\n",
    "'''\n",
    "--->The regression line in Linear regressionn is a straight line that passes \n",
    "    through the plotted points. It works well in predicting the future points when \n",
    "    the values of the dependent variable change with the changes in the values of the \n",
    "    independent variables. \n",
    "    \n",
    "--->But if the plotted points are curved, then fitting a straight line won't be \n",
    "    useful for predicting the values. To overcome this, we use Polynomial Linear \n",
    "    Regression. In Polynomial Linear regression, the equation is of the form:\n",
    "    Y=B0+B1X1+B1(X1)^2+B1(X1)^3+....\n",
    "    We take the polynomial power of the independent variable so that the regression \n",
    "    line forms a curve.\n",
    "'''\n",
    "\n",
    "import numpy as np\n",
    "import pandas as pd\n",
    "import matplotlib.pyplot as plt\n",
    "from sklearn.linear_model import LinearRegression\n",
    "from sklearn.metrics import r2_score\n",
    "from sklearn.preprocessing import PolynomialFeatures\n",
    "\n",
    "df=pd.read_csv('Position_Salaries.csv')\n",
    "X=df.iloc[:,1].values\n",
    "y=df.iloc[:,2].values\n",
    "\n",
    "X=X.reshape(-1,1)\n",
    "print(df.head())\n"
   ]
  },
  {
   "cell_type": "code",
   "execution_count": 2,
   "metadata": {},
   "outputs": [
    {
     "data": {
      "image/png": "[encoded data removed]",
      "text/plain": [
       "<Figure size 432x288 with 1 Axes>"
      ]
     },
     "metadata": {
      "needs_background": "light"
     },
     "output_type": "display_data"
    },
    {
     "name": "stdout",
     "output_type": "stream",
     "text": [
      "r2 score: 0.9812097727913367\n"
     ]
    }
   ],
   "source": [
    "# =============================================================================\n",
    "# I have commented the feature scaling code and haven't executed it because in Linear \n",
    "# Regression models the feature scaling is done implicitly by the library. But in some uncommon \n",
    "# Regression models like SVR, etc. we need to explicitly scale the features as\n",
    "# the features aren't implicitly scaled by the library. \n",
    "# =============================================================================\n",
    "\n",
    "'''\n",
    "from sklearn.preprocessing import StandardScaler\n",
    "sc_X = StandardScaler()\n",
    "X_train = sc_X.fit_transform(X_train)\n",
    "X_test = sc_X.transform(X_test)\n",
    "sc_y = StandardScaler()\n",
    "y_train = sc_y.fit_transform(y_train)\n",
    "'''\n",
    "\n",
    "\n",
    "X_poly=PolynomialFeatures(degree=3)\n",
    "PolyReg=X_poly.fit_transform(X)\n",
    "\n",
    "cl=LinearRegression()\n",
    "cl.fit(PolyReg,y)\n",
    "y_pred=cl.predict(PolyReg)\n",
    "\n",
    "\n",
    "plt.scatter(X, y, color = 'red')\n",
    "plt.plot(X, y_pred, color = 'blue')\n",
    "plt.title('Salary vs Experience (Test set)')\n",
    "plt.xlabel('Years of Experience')\n",
    "plt.ylabel('Salary')\n",
    "plt.show()\n",
    "\n",
    "print(\"r2 score:\",r2_score(y,y_pred))\n",
    "\n",
    "\n",
    "\n",
    "\n",
    "\n",
    "\n",
    "\n",
    "\n"
   ]
  },
  {
   "cell_type": "code",
   "execution_count": null,
   "metadata": {},
   "outputs": [],
   "source": []
  }
 ],
 "metadata": {
  "kernelspec": {
   "display_name": "Python 3",
   "language": "python",
   "name": "python3"
  },
  "language_info": {
   "codemirror_mode": {
    "name": "ipython",
    "version": 3
   },
   "file_extension": ".py",
   "mimetype": "text/x-python",
   "name": "python",
   "nbconvert_exporter": "python",
   "pygments_lexer": "ipython3",
   "version": "3.7.3"
  }
 },
 "nbformat": 4,
 "nbformat_minor": 2
}
