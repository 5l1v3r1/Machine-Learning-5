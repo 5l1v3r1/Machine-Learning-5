{
 "cells": [
  {
   "cell_type": "code",
   "execution_count": 1,
   "metadata": {},
   "outputs": [
    {
     "name": "stdout",
     "output_type": "stream",
     "text": [
      "            Position  Level  Salary\n",
      "0   Business Analyst      1   45000\n",
      "1  Junior Consultant      2   50000\n",
      "2  Senior Consultant      3   60000\n",
      "3            Manager      4   80000\n",
      "4    Country Manager      5  110000\n"
     ]
    }
   ],
   "source": [
    "# -*- coding: utf-8 -*-\n",
    "\"\"\"\n",
    "Created on Sun Dec  1 00:36:24 2019\n",
    "\n",
    "@author: Parth\n",
    "\"\"\"\n",
    "\n",
    "import numpy as np\n",
    "import pandas as pd\n",
    "import matplotlib.pyplot as plt\n",
    "from sklearn.linear_model import LinearRegression\n",
    "from sklearn.metrics import r2_score\n",
    "from sklearn.preprocessing import PolynomialFeatures\n",
    "\n",
    "df=pd.read_csv('Position_Salaries.csv')\n",
    "X=df.iloc[:,1].values\n",
    "y=df.iloc[:,2].values\n",
    "\n",
    "X=X.reshape(-1,1)\n",
    "y=y.reshape(-1,1)\n",
    "\n",
    "print(df.head())"
   ]
  },
  {
   "cell_type": "code",
   "execution_count": 2,
   "metadata": {},
   "outputs": [
    {
     "name": "stderr",
     "output_type": "stream",
     "text": [
      "C:\\ProgramData\\Anaconda3\\lib\\site-packages\\sklearn\\utils\\validation.py:744: DataConversionWarning: A column-vector y was passed when a 1d array was expected. Please change the shape of y to (n_samples, ), for example using ravel().\n",
      "  y = column_or_1d(y, warn=True)\n"
     ]
    },
    {
     "data": {
      "image/png": "[encoded data removed]",
      "text/plain": [
       "<Figure size 432x288 with 1 Axes>"
      ]
     },
     "metadata": {
      "needs_background": "light"
     },
     "output_type": "display_data"
    },
    {
     "name": "stdout",
     "output_type": "stream",
     "text": [
      "r2 score: 0.7516001070620798\n"
     ]
    }
   ],
   "source": [
    "# =============================================================================\n",
    "# The StandardSclaer library transform the data such that the mean of the dataset \n",
    "# becomes 0 and the standard deviation becomes 1. It does so by subtracting every sample\n",
    "# value by the dataset's mean and dividing the subtracted value by the standard deviation.\n",
    "# =============================================================================\n",
    "\n",
    "from sklearn.preprocessing import StandardScaler\n",
    "sc_X = StandardScaler()\n",
    "sc_y = StandardScaler()\n",
    "X = sc_X.fit_transform(X)\n",
    "y= sc_y.fit_transform(y)\n",
    "\n",
    "from sklearn.svm import SVR\n",
    "regressor= SVR(kernel='rbf')\n",
    "regressor.fit(X,y)\n",
    "\n",
    "# =============================================================================\n",
    "# -->In order to make custom predictions, the data must be in an array format. Hence \n",
    "#    I have created an Numpy array and passed the value as input. \n",
    "# -->As the regressor was trained on scaled data, we must also pass the scaled data as\n",
    "#    input to the regressor. \n",
    "# -->The prediction that we will get will also be in the scaled form. So we need to convert \n",
    "#    it back from scaled form to the normal form. This is done using inverse_transform method. \n",
    "# =============================================================================\n",
    "\n",
    "y_pred=sc_y.inverse_transform(regressor.predict(sc_X.transform(np.array([[6.5]]))))\n",
    "\n",
    "plt.scatter(X, y, color = 'red')\n",
    "plt.plot(X, regressor.predict(X), color = 'blue')\n",
    "plt.title('Salary vs Experience (Test set)')\n",
    "plt.xlabel('Years of Experience')\n",
    "plt.ylabel('Salary')\n",
    "plt.show()\n",
    "\n",
    "print(\"r2 score:\",r2_score(y,regressor.predict(X)))\n"
   ]
  },
  {
   "cell_type": "code",
   "execution_count": null,
   "metadata": {},
   "outputs": [],
   "source": []
  }
 ],
 "metadata": {
  "kernelspec": {
   "display_name": "Python 3",
   "language": "python",
   "name": "python3"
  },
  "language_info": {
   "codemirror_mode": {
    "name": "ipython",
    "version": 3
   },
   "file_extension": ".py",
   "mimetype": "text/x-python",
   "name": "python",
   "nbconvert_exporter": "python",
   "pygments_lexer": "ipython3",
   "version": "3.7.3"
  }
 },
 "nbformat": 4,
 "nbformat_minor": 2
}
